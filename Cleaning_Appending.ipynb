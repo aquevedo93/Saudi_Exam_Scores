{
 "cells": [
  {
   "cell_type": "code",
   "execution_count": 1,
   "metadata": {},
   "outputs": [],
   "source": [
    "import pandas as pd\n",
    "import numpy as np "
   ]
  },
  {
   "cell_type": "code",
   "execution_count": 2,
   "metadata": {},
   "outputs": [
    {
     "data": {
      "text/plain": [
       "(401, 11)"
      ]
     },
     "execution_count": 2,
     "metadata": {},
     "output_type": "execute_result"
    }
   ],
   "source": [
    "ach_boys_sci_priv=pd.read_csv('data/ach_boys_sci_priv.csv')\n",
    "ach_boys_sci_priv['Gender']= 'male'\n",
    "ach_boys_sci_priv['Exam Type']= 'achievement'\n",
    "ach_boys_sci_priv['Curriculum Track']= 'scientific'\n",
    "ach_boys_sci_priv.head()\n",
    "ach_boys_sci_priv.shape"
   ]
  },
  {
   "cell_type": "code",
   "execution_count": 3,
   "metadata": {},
   "outputs": [
    {
     "data": {
      "text/plain": [
       "(315, 11)"
      ]
     },
     "execution_count": 3,
     "metadata": {},
     "output_type": "execute_result"
    }
   ],
   "source": [
    "ach_girls_sci_priv=pd.read_csv('data/ach_girls_sci_priv.csv')\n",
    "ach_girls_sci_priv['Gender']= 'female'\n",
    "ach_girls_sci_priv['Exam Type']= 'achievement'\n",
    "ach_girls_sci_priv['Curriculum Track']= 'scientific'\n",
    "ach_girls_sci_priv.head()\n",
    "ach_girls_sci_priv.shape"
   ]
  },
  {
   "cell_type": "code",
   "execution_count": 4,
   "metadata": {},
   "outputs": [
    {
     "data": {
      "text/plain": [
       "(147, 11)"
      ]
     },
     "execution_count": 4,
     "metadata": {},
     "output_type": "execute_result"
    }
   ],
   "source": [
    "ach_girls_the_priv=pd.read_csv('data/ach_girls_the_priv.csv')\n",
    "ach_girls_the_priv['Gender']= 'female'\n",
    "ach_girls_the_priv['Exam Type']= 'achievement'\n",
    "ach_girls_the_priv['Curriculum Track']= 'theoretical'\n",
    "ach_girls_the_priv.head()\n",
    "ach_girls_the_priv.shape"
   ]
  },
  {
   "cell_type": "code",
   "execution_count": 5,
   "metadata": {},
   "outputs": [
    {
     "data": {
      "text/plain": [
       "(417, 11)"
      ]
     },
     "execution_count": 5,
     "metadata": {},
     "output_type": "execute_result"
    }
   ],
   "source": [
    "cap_boys_sci_priv=pd.read_csv('data/cap_boys_sci_priv.csv')\n",
    "cap_boys_sci_priv['Gender']= 'male'\n",
    "cap_boys_sci_priv['Exam Type']= 'capabilities'\n",
    "cap_boys_sci_priv['Curriculum Track']= 'scientific'\n",
    "cap_boys_sci_priv.head()\n",
    "cap_boys_sci_priv.shape"
   ]
  },
  {
   "cell_type": "code",
   "execution_count": 6,
   "metadata": {},
   "outputs": [
    {
     "data": {
      "text/plain": [
       "(23, 11)"
      ]
     },
     "execution_count": 6,
     "metadata": {},
     "output_type": "execute_result"
    }
   ],
   "source": [
    "cap_boys_the_priv=pd.read_csv('data/cap_boys_the_priv.csv')\n",
    "cap_boys_the_priv['Gender']= 'male'\n",
    "cap_boys_the_priv['Exam Type']= 'capabilities'\n",
    "cap_boys_the_priv['Curriculum Track']= 'theoretical'\n",
    "cap_boys_the_priv.head()\n",
    "cap_boys_the_priv.shape"
   ]
  },
  {
   "cell_type": "code",
   "execution_count": 7,
   "metadata": {},
   "outputs": [
    {
     "data": {
      "text/plain": [
       "(330, 11)"
      ]
     },
     "execution_count": 7,
     "metadata": {},
     "output_type": "execute_result"
    }
   ],
   "source": [
    "cap_girls_sci_priv=pd.read_csv('data/cap_girls_sci_priv.csv')\n",
    "cap_girls_sci_priv['Gender']= 'female'\n",
    "cap_girls_sci_priv['Exam Type']= 'capabilities'\n",
    "cap_girls_sci_priv['Curriculum Track']= 'scientific'\n",
    "cap_girls_sci_priv.head()\n",
    "cap_girls_sci_priv.shape"
   ]
  },
  {
   "cell_type": "code",
   "execution_count": 8,
   "metadata": {},
   "outputs": [
    {
     "data": {
      "text/plain": [
       "(163, 11)"
      ]
     },
     "execution_count": 8,
     "metadata": {},
     "output_type": "execute_result"
    }
   ],
   "source": [
    "cap_girls_the_priv=pd.read_csv('data/cap_girls_the_priv.csv')\n",
    "cap_girls_the_priv['Gender']= 'female'\n",
    "cap_girls_the_priv['Exam Type']= 'capabilities'\n",
    "cap_girls_the_priv['Curriculum Track']= 'theoretical'\n",
    "cap_girls_the_priv.head()\n",
    "cap_girls_the_priv.shape"
   ]
  },
  {
   "cell_type": "code",
   "execution_count": 9,
   "metadata": {},
   "outputs": [],
   "source": [
    "complete_dataset= ach_boys_sci_priv.append([ach_girls_sci_priv, ach_girls_the_priv,\n",
    "                                           cap_boys_sci_priv, cap_boys_the_priv,cap_girls_sci_priv,\n",
    "                                           cap_girls_the_priv], ignore_index = True)\n"
   ]
  },
  {
   "cell_type": "code",
   "execution_count": 10,
   "metadata": {},
   "outputs": [
    {
     "data": {
      "text/plain": [
       "(1796, 11)"
      ]
     },
     "execution_count": 10,
     "metadata": {},
     "output_type": "execute_result"
    }
   ],
   "source": [
    "complete_dataset.shape"
   ]
  },
  {
   "cell_type": "code",
   "execution_count": 11,
   "metadata": {},
   "outputs": [],
   "source": [
    "complete_dataset.drop(['General Rank', 'School Type'], axis=1, inplace=True)"
   ]
  },
  {
   "cell_type": "code",
   "execution_count": 12,
   "metadata": {},
   "outputs": [],
   "source": [
    "complete_dataset.columns = complete_dataset.columns.str.strip().str.lower().str.replace(' ', '_').str.replace('(', '').str.replace(')', '')"
   ]
  },
  {
   "cell_type": "code",
   "execution_count": 13,
   "metadata": {},
   "outputs": [
    {
     "data": {
      "text/plain": [
       "ministerial_number    0\n",
       "school_name           0\n",
       "city                  0\n",
       "region                0\n",
       "category              4\n",
       "average               0\n",
       "gender                0\n",
       "exam_type             0\n",
       "curriculum_track      0\n",
       "dtype: int64"
      ]
     },
     "execution_count": 13,
     "metadata": {},
     "output_type": "execute_result"
    }
   ],
   "source": [
    "complete_dataset.isna().sum()"
   ]
  },
  {
   "cell_type": "code",
   "execution_count": 14,
   "metadata": {},
   "outputs": [],
   "source": [
    "complete_dataset.dropna(inplace=True)"
   ]
  },
  {
   "cell_type": "code",
   "execution_count": 15,
   "metadata": {},
   "outputs": [],
   "source": [
    "complete_dataset['ministerial_number'] = complete_dataset['ministerial_number'].astype(int)"
   ]
  },
  {
   "cell_type": "code",
   "execution_count": 16,
   "metadata": {},
   "outputs": [
    {
     "data": {
      "text/html": [
       "<div>\n",
       "<style scoped>\n",
       "    .dataframe tbody tr th:only-of-type {\n",
       "        vertical-align: middle;\n",
       "    }\n",
       "\n",
       "    .dataframe tbody tr th {\n",
       "        vertical-align: top;\n",
       "    }\n",
       "\n",
       "    .dataframe thead th {\n",
       "        text-align: right;\n",
       "    }\n",
       "</style>\n",
       "<table border=\"1\" class=\"dataframe\">\n",
       "  <thead>\n",
       "    <tr style=\"text-align: right;\">\n",
       "      <th></th>\n",
       "      <th>ministerial_number</th>\n",
       "      <th>school_name</th>\n",
       "      <th>city</th>\n",
       "      <th>region</th>\n",
       "      <th>category</th>\n",
       "      <th>average</th>\n",
       "      <th>gender</th>\n",
       "      <th>exam_type</th>\n",
       "      <th>curriculum_track</th>\n",
       "    </tr>\n",
       "  </thead>\n",
       "  <tbody>\n",
       "    <tr>\n",
       "      <th>0</th>\n",
       "      <td>54421</td>\n",
       "      <td>ثانوية اجيال المواهب الاهلية</td>\n",
       "      <td>الخبر</td>\n",
       "      <td>AlSharquia</td>\n",
       "      <td>تعليم عام بنين</td>\n",
       "      <td>88.41</td>\n",
       "      <td>male</td>\n",
       "      <td>achievement</td>\n",
       "      <td>scientific</td>\n",
       "    </tr>\n",
       "    <tr>\n",
       "      <th>1</th>\n",
       "      <td>53854</td>\n",
       "      <td>ثانوية الجامعة الأهلية</td>\n",
       "      <td>الخبر</td>\n",
       "      <td>AlSharquia</td>\n",
       "      <td>تعليم عام بنين</td>\n",
       "      <td>87.75</td>\n",
       "      <td>male</td>\n",
       "      <td>achievement</td>\n",
       "      <td>scientific</td>\n",
       "    </tr>\n",
       "    <tr>\n",
       "      <th>2</th>\n",
       "      <td>26504</td>\n",
       "      <td>ثانوية الفلاح الأهلية</td>\n",
       "      <td>مكة المكرمة</td>\n",
       "      <td>Makkah</td>\n",
       "      <td>تعليم عام بنين</td>\n",
       "      <td>86.93</td>\n",
       "      <td>male</td>\n",
       "      <td>achievement</td>\n",
       "      <td>scientific</td>\n",
       "    </tr>\n",
       "    <tr>\n",
       "      <th>3</th>\n",
       "      <td>153006</td>\n",
       "      <td>ثانوية المشكاة الأهلية</td>\n",
       "      <td>الدمام</td>\n",
       "      <td>AlSharquia</td>\n",
       "      <td>تعليم عام بنين</td>\n",
       "      <td>86.05</td>\n",
       "      <td>male</td>\n",
       "      <td>achievement</td>\n",
       "      <td>scientific</td>\n",
       "    </tr>\n",
       "    <tr>\n",
       "      <th>4</th>\n",
       "      <td>11179</td>\n",
       "      <td>ثانوية نجد الأهلية</td>\n",
       "      <td>الرياض</td>\n",
       "      <td>Riyadh</td>\n",
       "      <td>تعليم عام بنين</td>\n",
       "      <td>85.57</td>\n",
       "      <td>male</td>\n",
       "      <td>achievement</td>\n",
       "      <td>scientific</td>\n",
       "    </tr>\n",
       "  </tbody>\n",
       "</table>\n",
       "</div>"
      ],
      "text/plain": [
       "   ministerial_number                   school_name         city      region  \\\n",
       "0               54421  ثانوية اجيال المواهب الاهلية        الخبر  AlSharquia   \n",
       "1               53854        ثانوية الجامعة الأهلية        الخبر  AlSharquia   \n",
       "2               26504         ثانوية الفلاح الأهلية  مكة المكرمة      Makkah   \n",
       "3              153006        ثانوية المشكاة الأهلية       الدمام  AlSharquia   \n",
       "4               11179            ثانوية نجد الأهلية       الرياض      Riyadh   \n",
       "\n",
       "         category  average gender    exam_type curriculum_track  \n",
       "0  تعليم عام بنين    88.41   male  achievement       scientific  \n",
       "1  تعليم عام بنين    87.75   male  achievement       scientific  \n",
       "2  تعليم عام بنين    86.93   male  achievement       scientific  \n",
       "3  تعليم عام بنين    86.05   male  achievement       scientific  \n",
       "4  تعليم عام بنين    85.57   male  achievement       scientific  "
      ]
     },
     "execution_count": 16,
     "metadata": {},
     "output_type": "execute_result"
    }
   ],
   "source": [
    "complete_dataset.head()"
   ]
  },
  {
   "cell_type": "code",
   "execution_count": 17,
   "metadata": {},
   "outputs": [
    {
     "data": {
      "text/html": [
       "<div>\n",
       "<style scoped>\n",
       "    .dataframe tbody tr th:only-of-type {\n",
       "        vertical-align: middle;\n",
       "    }\n",
       "\n",
       "    .dataframe tbody tr th {\n",
       "        vertical-align: top;\n",
       "    }\n",
       "\n",
       "    .dataframe thead th {\n",
       "        text-align: right;\n",
       "    }\n",
       "</style>\n",
       "<table border=\"1\" class=\"dataframe\">\n",
       "  <thead>\n",
       "    <tr style=\"text-align: right;\">\n",
       "      <th></th>\n",
       "      <th>ministerial_number</th>\n",
       "      <th>school_name</th>\n",
       "      <th>city</th>\n",
       "      <th>region</th>\n",
       "      <th>category</th>\n",
       "      <th>average</th>\n",
       "      <th>gender</th>\n",
       "      <th>exam_type</th>\n",
       "      <th>curriculum_track</th>\n",
       "    </tr>\n",
       "  </thead>\n",
       "  <tbody>\n",
       "    <tr>\n",
       "      <th>1791</th>\n",
       "      <td>83801</td>\n",
       "      <td>ثانوية أنجال رفحاء الأهلية-بنات</td>\n",
       "      <td>رفحاء</td>\n",
       "      <td>Northern borders</td>\n",
       "      <td>تعليم عام بنات</td>\n",
       "      <td>63.47</td>\n",
       "      <td>female</td>\n",
       "      <td>capabilities</td>\n",
       "      <td>theoretical</td>\n",
       "    </tr>\n",
       "    <tr>\n",
       "      <th>1792</th>\n",
       "      <td>60886</td>\n",
       "      <td>ثانوية الأكاديمية العصرية لتعليم الكبيرات</td>\n",
       "      <td>حفر الباطن</td>\n",
       "      <td>AlSharquia</td>\n",
       "      <td>تعليم عام بنات</td>\n",
       "      <td>63.41</td>\n",
       "      <td>female</td>\n",
       "      <td>capabilities</td>\n",
       "      <td>theoretical</td>\n",
       "    </tr>\n",
       "    <tr>\n",
       "      <th>1793</th>\n",
       "      <td>96653</td>\n",
       "      <td>ثانوية الشفا الأهلية</td>\n",
       "      <td>الرياض</td>\n",
       "      <td>Riyadh</td>\n",
       "      <td>تعليم عام بنات</td>\n",
       "      <td>63.14</td>\n",
       "      <td>female</td>\n",
       "      <td>capabilities</td>\n",
       "      <td>theoretical</td>\n",
       "    </tr>\n",
       "    <tr>\n",
       "      <th>1794</th>\n",
       "      <td>60814</td>\n",
       "      <td>ثانوية المجد الأهلية</td>\n",
       "      <td>حفر الباطن</td>\n",
       "      <td>AlSharquia</td>\n",
       "      <td>تعليم عام بنات</td>\n",
       "      <td>62.63</td>\n",
       "      <td>female</td>\n",
       "      <td>capabilities</td>\n",
       "      <td>theoretical</td>\n",
       "    </tr>\n",
       "    <tr>\n",
       "      <th>1795</th>\n",
       "      <td>186879</td>\n",
       "      <td>ثانوية بيت القيم الاهلية بالقريات</td>\n",
       "      <td>القريات</td>\n",
       "      <td>Gouf</td>\n",
       "      <td>تعليم عام بنات</td>\n",
       "      <td>59.42</td>\n",
       "      <td>female</td>\n",
       "      <td>capabilities</td>\n",
       "      <td>theoretical</td>\n",
       "    </tr>\n",
       "  </tbody>\n",
       "</table>\n",
       "</div>"
      ],
      "text/plain": [
       "      ministerial_number                                school_name  \\\n",
       "1791               83801            ثانوية أنجال رفحاء الأهلية-بنات   \n",
       "1792               60886  ثانوية الأكاديمية العصرية لتعليم الكبيرات   \n",
       "1793               96653                       ثانوية الشفا الأهلية   \n",
       "1794               60814                       ثانوية المجد الأهلية   \n",
       "1795              186879          ثانوية بيت القيم الاهلية بالقريات   \n",
       "\n",
       "            city            region        category  average  gender  \\\n",
       "1791       رفحاء  Northern borders  تعليم عام بنات    63.47  female   \n",
       "1792  حفر الباطن        AlSharquia  تعليم عام بنات    63.41  female   \n",
       "1793      الرياض            Riyadh  تعليم عام بنات    63.14  female   \n",
       "1794  حفر الباطن        AlSharquia  تعليم عام بنات    62.63  female   \n",
       "1795     القريات              Gouf  تعليم عام بنات    59.42  female   \n",
       "\n",
       "         exam_type curriculum_track  \n",
       "1791  capabilities      theoretical  \n",
       "1792  capabilities      theoretical  \n",
       "1793  capabilities      theoretical  \n",
       "1794  capabilities      theoretical  \n",
       "1795  capabilities      theoretical  "
      ]
     },
     "execution_count": 17,
     "metadata": {},
     "output_type": "execute_result"
    }
   ],
   "source": [
    "complete_dataset.tail()"
   ]
  },
  {
   "cell_type": "code",
   "execution_count": 18,
   "metadata": {},
   "outputs": [],
   "source": [
    "complete_dataset.to_csv('data/exam_scores_complete.csv', index=False)"
   ]
  },
  {
   "cell_type": "code",
   "execution_count": null,
   "metadata": {},
   "outputs": [],
   "source": []
  }
 ],
 "metadata": {
  "kernelspec": {
   "display_name": "Python 3",
   "language": "python",
   "name": "python3"
  },
  "language_info": {
   "codemirror_mode": {
    "name": "ipython",
    "version": 3
   },
   "file_extension": ".py",
   "mimetype": "text/x-python",
   "name": "python",
   "nbconvert_exporter": "python",
   "pygments_lexer": "ipython3",
   "version": "3.7.4"
  }
 },
 "nbformat": 4,
 "nbformat_minor": 2
}
